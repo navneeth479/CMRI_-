{
 "cells": [
  {
   "cell_type": "code",
   "execution_count": 1,
   "id": "7a2dc80e-abf9-4940-b527-206104e61f1d",
   "metadata": {},
   "outputs": [],
   "source": [
    "import scipy.io\n",
    "\n",
    "from grappa_dist import GRAPPA\n",
    "from utils_dist import *\n",
    "\n",
    "mat = scipy.io.loadmat('data_brain_8coils.mat')\n",
    "kdata = mat['d']  # (PE,RO,nCoil)\n",
    "sens_maps = mat['c']  # (PE,RO,nCoil)\n",
    "noise_maps = mat['n']  # (RO,nCoil)\n",
    "PSI = np.cov(noise_maps, rowvar=False)  # (nCoil, nCoil)"
   ]
  },
  {
   "cell_type": "code",
   "execution_count": null,
   "id": "3cac67c7-13fd-417e-aa3e-7408328bf13c",
   "metadata": {},
   "outputs": [],
   "source": []
  }
 ],
 "metadata": {
  "kernelspec": {
   "display_name": "Python 3 (ipykernel)",
   "language": "python",
   "name": "python3"
  },
  "language_info": {
   "codemirror_mode": {
    "name": "ipython",
    "version": 3
   },
   "file_extension": ".py",
   "mimetype": "text/x-python",
   "name": "python",
   "nbconvert_exporter": "python",
   "pygments_lexer": "ipython3",
   "version": "3.8.11"
  }
 },
 "nbformat": 4,
 "nbformat_minor": 5
}
